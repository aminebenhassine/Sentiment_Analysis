{
 "cells": [
  {
   "cell_type": "code",
   "execution_count": 1,
   "metadata": {},
   "outputs": [
    {
     "name": "stderr",
     "output_type": "stream",
     "text": [
      "D:\\Anaconda\\lib\\importlib\\_bootstrap.py:219: RuntimeWarning: numpy.ufunc size changed, may indicate binary incompatibility. Expected 192 from C header, got 216 from PyObject\n",
      "  return f(*args, **kwds)\n"
     ]
    }
   ],
   "source": [
    "import pandas as pd\n",
    "import numpy as np\n",
    "import matplotlib.pyplot as plt\n",
    "import csv\n",
    "import chardet"
   ]
  },
  {
   "cell_type": "code",
   "execution_count": 2,
   "metadata": {},
   "outputs": [],
   "source": [
    "#Get the encoding\n",
    "def find_encoding(fname):\n",
    "    r_file = open(fname, 'rb').read()\n",
    "    result = chardet.detect(r_file)\n",
    "    charenc = result['encoding']\n",
    "    return charenc"
   ]
  },
  {
   "cell_type": "code",
   "execution_count": 3,
   "metadata": {},
   "outputs": [
    {
     "data": {
      "text/html": [
       "<div>\n",
       "<style scoped>\n",
       "    .dataframe tbody tr th:only-of-type {\n",
       "        vertical-align: middle;\n",
       "    }\n",
       "\n",
       "    .dataframe tbody tr th {\n",
       "        vertical-align: top;\n",
       "    }\n",
       "\n",
       "    .dataframe thead th {\n",
       "        text-align: right;\n",
       "    }\n",
       "</style>\n",
       "<table border=\"1\" class=\"dataframe\">\n",
       "  <thead>\n",
       "    <tr style=\"text-align: right;\">\n",
       "      <th></th>\n",
       "      <th>no</th>\n",
       "      <th>Hotel name</th>\n",
       "      <th>rating</th>\n",
       "      <th>user type</th>\n",
       "      <th>room type</th>\n",
       "      <th>nights</th>\n",
       "      <th>review</th>\n",
       "    </tr>\n",
       "  </thead>\n",
       "  <tbody>\n",
       "    <tr>\n",
       "      <th>0</th>\n",
       "      <td>2</td>\n",
       "      <td>فندق 72</td>\n",
       "      <td>2</td>\n",
       "      <td>مسافر منفرد</td>\n",
       "      <td>غرفة ديلوكس مزدوجة أو توأم</td>\n",
       "      <td>أقمت ليلة واحدة</td>\n",
       "      <td>“ممتاز”. النظافة والطاقم متعاون.</td>\n",
       "    </tr>\n",
       "    <tr>\n",
       "      <th>1</th>\n",
       "      <td>3</td>\n",
       "      <td>فندق 72</td>\n",
       "      <td>5</td>\n",
       "      <td>زوج</td>\n",
       "      <td>غرفة ديلوكس مزدوجة أو توأم</td>\n",
       "      <td>أقمت ليلة واحدة</td>\n",
       "      <td>استثنائي. سهولة إنهاء المعاملة في الاستقبال. ل...</td>\n",
       "    </tr>\n",
       "    <tr>\n",
       "      <th>2</th>\n",
       "      <td>16</td>\n",
       "      <td>فندق 72</td>\n",
       "      <td>5</td>\n",
       "      <td>زوج</td>\n",
       "      <td>-</td>\n",
       "      <td>أقمت ليلتين</td>\n",
       "      <td>استثنائي. انصح بأختيار الاسويت و بالاخص غرفه ر...</td>\n",
       "    </tr>\n",
       "    <tr>\n",
       "      <th>3</th>\n",
       "      <td>20</td>\n",
       "      <td>فندق 72</td>\n",
       "      <td>1</td>\n",
       "      <td>زوج</td>\n",
       "      <td>غرفة قياسية مزدوجة</td>\n",
       "      <td>أقمت ليلة واحدة</td>\n",
       "      <td>“استغرب تقييم الفندق كخمس نجوم”. لا شي. يستحق ...</td>\n",
       "    </tr>\n",
       "    <tr>\n",
       "      <th>4</th>\n",
       "      <td>23</td>\n",
       "      <td>فندق 72</td>\n",
       "      <td>4</td>\n",
       "      <td>زوج</td>\n",
       "      <td>غرفة ديلوكس مزدوجة أو توأم</td>\n",
       "      <td>أقمت ليلتين</td>\n",
       "      <td>جيد. المكان جميل وهاديء. كل شي جيد ونظيف بس كا...</td>\n",
       "    </tr>\n",
       "  </tbody>\n",
       "</table>\n",
       "</div>"
      ],
      "text/plain": [
       "   no Hotel name  rating    user type                   room type  \\\n",
       "0   2    فندق 72       2  مسافر منفرد  غرفة ديلوكس مزدوجة أو توأم   \n",
       "1   3    فندق 72       5          زوج  غرفة ديلوكس مزدوجة أو توأم   \n",
       "2  16    فندق 72       5          زوج                           -   \n",
       "3  20    فندق 72       1          زوج          غرفة قياسية مزدوجة   \n",
       "4  23    فندق 72       4          زوج  غرفة ديلوكس مزدوجة أو توأم   \n",
       "\n",
       "            nights                                             review  \n",
       "0  أقمت ليلة واحدة                  “ممتاز”. النظافة والطاقم متعاون.   \n",
       "1  أقمت ليلة واحدة  استثنائي. سهولة إنهاء المعاملة في الاستقبال. ل...  \n",
       "2      أقمت ليلتين  استثنائي. انصح بأختيار الاسويت و بالاخص غرفه ر...  \n",
       "3  أقمت ليلة واحدة  “استغرب تقييم الفندق كخمس نجوم”. لا شي. يستحق ...  \n",
       "4      أقمت ليلتين  جيد. المكان جميل وهاديء. كل شي جيد ونظيف بس كا...  "
      ]
     },
     "execution_count": 3,
     "metadata": {},
     "output_type": "execute_result"
    }
   ],
   "source": [
    "my_encoding = find_encoding('data/balanced-reviews.txt')\n",
    "balanced = pd.read_csv('data/balanced-reviews.txt', encoding=my_encoding,sep = \"\\t\")\n",
    "balanced.head()"
   ]
  },
  {
   "cell_type": "markdown",
   "metadata": {},
   "source": [
    "### Removing stopwords"
   ]
  },
  {
   "cell_type": "code",
   "execution_count": 4,
   "metadata": {},
   "outputs": [
    {
     "data": {
      "text/plain": [
       "['استثنائي', '.', 'سهولة', 'إنهاء', 'المعاملة', 'الاستقبال', '.', 'لاشيئ']"
      ]
     },
     "execution_count": 4,
     "metadata": {},
     "output_type": "execute_result"
    }
   ],
   "source": [
    "#test analyse\n",
    "from cltk.stop.arabic.stopword_filter import stopwords_filter as ar_stop_filter\n",
    "balancedR=balanced[\"review\"]\n",
    "ar_stop_filter(balancedR[1])"
   ]
  },
  {
   "cell_type": "markdown",
   "metadata": {},
   "source": [
    "### 1. Getting negative reviews"
   ]
  },
  {
   "cell_type": "code",
   "execution_count": 5,
   "metadata": {},
   "outputs": [
    {
     "name": "stderr",
     "output_type": "stream",
     "text": [
      "D:\\Anaconda\\lib\\site-packages\\ipykernel_launcher.py:2: SettingWithCopyWarning: \n",
      "A value is trying to be set on a copy of a slice from a DataFrame.\n",
      "Try using .loc[row_indexer,col_indexer] = value instead\n",
      "\n",
      "See the caveats in the documentation: http://pandas.pydata.org/pandas-docs/stable/indexing.html#indexing-view-versus-copy\n",
      "  \n"
     ]
    }
   ],
   "source": [
    "balancedN=balanced.loc[balanced['rating'] <=2]#getting negative\n",
    "balancedN['opinion']=0\n",
    "negative=balancedN[['review','opinion']]\n",
    "negative=negative.reset_index()\n",
    "negative = negative.drop('index', 1)"
   ]
  },
  {
   "cell_type": "code",
   "execution_count": 6,
   "metadata": {},
   "outputs": [
    {
     "name": "stdout",
     "output_type": "stream",
     "text": [
      "<class 'pandas.core.frame.DataFrame'>\n",
      "RangeIndex: 52849 entries, 0 to 52848\n",
      "Data columns (total 2 columns):\n",
      "review     52849 non-null object\n",
      "opinion    52849 non-null int64\n",
      "dtypes: int64(1), object(1)\n",
      "memory usage: 825.8+ KB\n"
     ]
    }
   ],
   "source": [
    "negative.info()"
   ]
  },
  {
   "cell_type": "code",
   "execution_count": 7,
   "metadata": {},
   "outputs": [
    {
     "data": {
      "text/html": [
       "<div>\n",
       "<style scoped>\n",
       "    .dataframe tbody tr th:only-of-type {\n",
       "        vertical-align: middle;\n",
       "    }\n",
       "\n",
       "    .dataframe tbody tr th {\n",
       "        vertical-align: top;\n",
       "    }\n",
       "\n",
       "    .dataframe thead th {\n",
       "        text-align: right;\n",
       "    }\n",
       "</style>\n",
       "<table border=\"1\" class=\"dataframe\">\n",
       "  <thead>\n",
       "    <tr style=\"text-align: right;\">\n",
       "      <th></th>\n",
       "      <th>review</th>\n",
       "      <th>opinion</th>\n",
       "    </tr>\n",
       "  </thead>\n",
       "  <tbody>\n",
       "    <tr>\n",
       "      <th>0</th>\n",
       "      <td>“ممتاز”. النظافة والطاقم متعاون.</td>\n",
       "      <td>0</td>\n",
       "    </tr>\n",
       "    <tr>\n",
       "      <th>1</th>\n",
       "      <td>“استغرب تقييم الفندق كخمس نجوم”. لا شي. يستحق ...</td>\n",
       "      <td>0</td>\n",
       "    </tr>\n",
       "    <tr>\n",
       "      <th>2</th>\n",
       "      <td>“أسرة اماراتية.”. فندق مبنى على الطراز الحديث،...</td>\n",
       "      <td>0</td>\n",
       "    </tr>\n",
       "    <tr>\n",
       "      <th>3</th>\n",
       "      <td>“موظف المسبح سيء جدا”. . موظف المسبح سيء جدامع...</td>\n",
       "      <td>0</td>\n",
       "    </tr>\n",
       "    <tr>\n",
       "      <th>4</th>\n",
       "      <td>“اقامة ممتعة”. . الموقع والنظافة</td>\n",
       "      <td>0</td>\n",
       "    </tr>\n",
       "    <tr>\n",
       "      <th>5</th>\n",
       "      <td>ضعيف جداً. . لم اتوقع الانحدار الذي وصلته الكو...</td>\n",
       "      <td>0</td>\n",
       "    </tr>\n",
       "    <tr>\n",
       "      <th>6</th>\n",
       "      <td>“السعودية”. . تعملالموظفين</td>\n",
       "      <td>0</td>\n",
       "    </tr>\n",
       "    <tr>\n",
       "      <th>7</th>\n",
       "      <td>مخيب للأمل. اكثر الفنادق تقدر تسوي جك أوت السا...</td>\n",
       "      <td>0</td>\n",
       "    </tr>\n",
       "    <tr>\n",
       "      <th>8</th>\n",
       "      <td>“اقامة غير سعيدة لوجود قصور فالخدمة”. . مدخل ا...</td>\n",
       "      <td>0</td>\n",
       "    </tr>\n",
       "    <tr>\n",
       "      <th>9</th>\n",
       "      <td>مخيب للأمل. الموقع جيد. تعامل طاقم العمل سي وب...</td>\n",
       "      <td>0</td>\n",
       "    </tr>\n",
       "    <tr>\n",
       "      <th>10</th>\n",
       "      <td>ضعيف جداً. فندق رائع.</td>\n",
       "      <td>0</td>\n",
       "    </tr>\n",
       "    <tr>\n",
       "      <th>11</th>\n",
       "      <td>ضعيف جداً. الغخامه انصح فيه بقوه.</td>\n",
       "      <td>0</td>\n",
       "    </tr>\n",
       "    <tr>\n",
       "      <th>12</th>\n",
       "      <td>“اختيار غير موفق في الشارقه”. . الموقع الوديكو...</td>\n",
       "      <td>0</td>\n",
       "    </tr>\n",
       "    <tr>\n",
       "      <th>13</th>\n",
       "      <td>ضعيف جداً. . دفع قيمة التأمين اجباري 500 درهم ...</td>\n",
       "      <td>0</td>\n",
       "    </tr>\n",
       "    <tr>\n",
       "      <th>14</th>\n",
       "      <td>“لن أسكن فيه مرة أخرى”. الإنترنت جيد. حجزت بمب...</td>\n",
       "      <td>0</td>\n",
       "    </tr>\n",
       "    <tr>\n",
       "      <th>15</th>\n",
       "      <td>“غير صالح للاقامة الى ان تنتهي العمليات الانشا...</td>\n",
       "      <td>0</td>\n",
       "    </tr>\n",
       "    <tr>\n",
       "      <th>16</th>\n",
       "      <td>“اسواء تعامل تعاملته مع هذا الفندق”. . لم يعجب...</td>\n",
       "      <td>0</td>\n",
       "    </tr>\n",
       "    <tr>\n",
       "      <th>17</th>\n",
       "      <td>“ضعيف”. لا شيا. سياء من حيث الغرف والمواقف وال...</td>\n",
       "      <td>0</td>\n",
       "    </tr>\n",
       "    <tr>\n",
       "      <th>18</th>\n",
       "      <td>“لا انصح فيه”. الافطار كان جيد. غااالي ومايستا...</td>\n",
       "      <td>0</td>\n",
       "    </tr>\n",
       "    <tr>\n",
       "      <th>19</th>\n",
       "      <td>“سوء معامله”. الموقع. طريقة الاستقبال غير جيدة...</td>\n",
       "      <td>0</td>\n",
       "    </tr>\n",
       "    <tr>\n",
       "      <th>20</th>\n",
       "      <td>“ازعاج”. . ازعاج عشان الجيك أوت الساعه 11 الصبح</td>\n",
       "      <td>0</td>\n",
       "    </tr>\n",
       "    <tr>\n",
       "      <th>21</th>\n",
       "      <td>“لا للسياحة الداخلية في ضل غياب الرقابة”. لايو...</td>\n",
       "      <td>0</td>\n",
       "    </tr>\n",
       "    <tr>\n",
       "      <th>22</th>\n",
       "      <td>مخيب للأمل. . الفطور سيئ والاستقبال نصابين</td>\n",
       "      <td>0</td>\n",
       "    </tr>\n",
       "    <tr>\n",
       "      <th>23</th>\n",
       "      <td>“اسوء فندق او ليس فندق غرف مفروشة كتير عليه”. ...</td>\n",
       "      <td>0</td>\n",
       "    </tr>\n",
       "    <tr>\n",
       "      <th>24</th>\n",
       "      <td>“لا انصح به يوجد الافضل بالقرب منه”. . تعامل ا...</td>\n",
       "      <td>0</td>\n",
       "    </tr>\n",
       "    <tr>\n",
       "      <th>25</th>\n",
       "      <td>“لا داعي للسفر لاي سياحة داخلية طالما المستثمر...</td>\n",
       "      <td>0</td>\n",
       "    </tr>\n",
       "    <tr>\n",
       "      <th>26</th>\n",
       "      <td>ضعيف. شبكة الواي فاي فقط لاغير. الافطار لم يرت...</td>\n",
       "      <td>0</td>\n",
       "    </tr>\n",
       "    <tr>\n",
       "      <th>27</th>\n",
       "      <td>“جيد”. الغرفة والصالة جيدة وواسعة. الحمام صغير...</td>\n",
       "      <td>0</td>\n",
       "    </tr>\n",
       "    <tr>\n",
       "      <th>28</th>\n",
       "      <td>“عنوان للحساسيه والربو”. النظافه. الموقع. لايو...</td>\n",
       "      <td>0</td>\n",
       "    </tr>\n",
       "    <tr>\n",
       "      <th>29</th>\n",
       "      <td>ضعيف جداً. للاسف ولا شيء. كانت اتعس اختيار لي ...</td>\n",
       "      <td>0</td>\n",
       "    </tr>\n",
       "    <tr>\n",
       "      <th>...</th>\n",
       "      <td>...</td>\n",
       "      <td>...</td>\n",
       "    </tr>\n",
       "    <tr>\n",
       "      <th>52819</th>\n",
       "      <td>“فندق غير مقبول”. فندق عدم دخلت الغرفه كان يوج...</td>\n",
       "      <td>0</td>\n",
       "    </tr>\n",
       "    <tr>\n",
       "      <th>52820</th>\n",
       "      <td>“من اتعس الفنادق”. لم يعجبني شئ بهذا الفندق وا...</td>\n",
       "      <td>0</td>\n",
       "    </tr>\n",
       "    <tr>\n",
       "      <th>52821</th>\n",
       "      <td>“تجربه سيئه جدااا”. ولا شي. عدم الالتزام بنوع ...</td>\n",
       "      <td>0</td>\n",
       "    </tr>\n",
       "    <tr>\n",
       "      <th>52822</th>\n",
       "      <td>مخيب للأمل. . لقد كان الحجز على booking .com م...</td>\n",
       "      <td>0</td>\n",
       "    </tr>\n",
       "    <tr>\n",
       "      <th>52823</th>\n",
       "      <td>“المراتب غير صالحة للنوم واقمت لمدة 6 ايام ولم...</td>\n",
       "      <td>0</td>\n",
       "    </tr>\n",
       "    <tr>\n",
       "      <th>52824</th>\n",
       "      <td>“فندق غير مناسب ابدا للعيش فيه ..غير نظيف ابدا...</td>\n",
       "      <td>0</td>\n",
       "    </tr>\n",
       "    <tr>\n",
       "      <th>52825</th>\n",
       "      <td>“الفندق وجده ضمن عروض بوكينج يضر بمصداقيتها”. ...</td>\n",
       "      <td>0</td>\n",
       "    </tr>\n",
       "    <tr>\n",
       "      <th>52826</th>\n",
       "      <td>“It's cheating the photos is not as it in real...</td>\n",
       "      <td>0</td>\n",
       "    </tr>\n",
       "    <tr>\n",
       "      <th>52827</th>\n",
       "      <td>“الزياره”. وجود محلات صغيره للتموين حول الفندق...</td>\n",
       "      <td>0</td>\n",
       "    </tr>\n",
       "    <tr>\n",
       "      <th>52828</th>\n",
       "      <td>“اسوى موزفي استقبال مرو علي في جميع رحﻻتي كداب...</td>\n",
       "      <td>0</td>\n",
       "    </tr>\n",
       "    <tr>\n",
       "      <th>52829</th>\n",
       "      <td>مخيب للأمل. حسن تعامل موظفين الاستقبال. الأثاث...</td>\n",
       "      <td>0</td>\n",
       "    </tr>\n",
       "    <tr>\n",
       "      <th>52830</th>\n",
       "      <td>مخيب للأمل. الموقع. الخدمات ضعيفه جداالعاملين ...</td>\n",
       "      <td>0</td>\n",
       "    </tr>\n",
       "    <tr>\n",
       "      <th>52831</th>\n",
       "      <td>مخيب للأمل. التكييف في الغرفةاسرة الغرف. صور غ...</td>\n",
       "      <td>0</td>\n",
       "    </tr>\n",
       "    <tr>\n",
       "      <th>52832</th>\n",
       "      <td>مخيب للأمل. . عدم تنظيف الغرف الخدمه سيئه عدم ...</td>\n",
       "      <td>0</td>\n",
       "    </tr>\n",
       "    <tr>\n",
       "      <th>52833</th>\n",
       "      <td>ضعيف. سهوله اجراءات الدخول. يوجد نزلاء قذرين ص...</td>\n",
       "      <td>0</td>\n",
       "    </tr>\n",
       "    <tr>\n",
       "      <th>52834</th>\n",
       "      <td>ضعيف. قريب من الحرم. الفطار سي خدمه الغرف سيعد...</td>\n",
       "      <td>0</td>\n",
       "    </tr>\n",
       "    <tr>\n",
       "      <th>52835</th>\n",
       "      <td>ضعيف جداً. . يوجد قمل الفراش في السرير</td>\n",
       "      <td>0</td>\n",
       "    </tr>\n",
       "    <tr>\n",
       "      <th>52836</th>\n",
       "      <td>“سيء جداً”. نظافة الغرف والفرش مجدد. تم نقلنا ...</td>\n",
       "      <td>0</td>\n",
       "    </tr>\n",
       "    <tr>\n",
       "      <th>52837</th>\n",
       "      <td>“مقبول نسبيا”. موظفو الأمن ومواقف السيارات في ...</td>\n",
       "      <td>0</td>\n",
       "    </tr>\n",
       "    <tr>\n",
       "      <th>52838</th>\n",
       "      <td>ضعيف. لا يوجد شي في الفندق يعجب. الخدمات وموظف...</td>\n",
       "      <td>0</td>\n",
       "    </tr>\n",
       "    <tr>\n",
       "      <th>52839</th>\n",
       "      <td>“مقبول”. القرب من المسجد النبوي. استلمنا الغرف...</td>\n",
       "      <td>0</td>\n",
       "    </tr>\n",
       "    <tr>\n",
       "      <th>52840</th>\n",
       "      <td>ضعيف جداً. . انتظار اكثر من نصف ساعه لتسجيل ال...</td>\n",
       "      <td>0</td>\n",
       "    </tr>\n",
       "    <tr>\n",
       "      <th>52841</th>\n",
       "      <td>“كل شيء فيه سيء جدا خدمات ونظافة ومواقف سيئة و...</td>\n",
       "      <td>0</td>\n",
       "    </tr>\n",
       "    <tr>\n",
       "      <th>52842</th>\n",
       "      <td>مخيب للأمل. قربه من الحرم والافطار. الخدمه سيئ...</td>\n",
       "      <td>0</td>\n",
       "    </tr>\n",
       "    <tr>\n",
       "      <th>52843</th>\n",
       "      <td>“رديه”. موظفين الاستقبال. ازعاج الساعه 2 يدقون...</td>\n",
       "      <td>0</td>\n",
       "    </tr>\n",
       "    <tr>\n",
       "      <th>52844</th>\n",
       "      <td>“فند”. لا شئ عجبني. طقم العمل سيئ جدالا يوجد ب...</td>\n",
       "      <td>0</td>\n",
       "    </tr>\n",
       "    <tr>\n",
       "      <th>52845</th>\n",
       "      <td>“سيئ”. قربه من المسجد النبوي الشريف. استخدام م...</td>\n",
       "      <td>0</td>\n",
       "    </tr>\n",
       "    <tr>\n",
       "      <th>52846</th>\n",
       "      <td>“اسوأ إقامة في الرحلة !”. القرب من الحرم. كل ش...</td>\n",
       "      <td>0</td>\n",
       "    </tr>\n",
       "    <tr>\n",
       "      <th>52847</th>\n",
       "      <td>“دون المستوى”. قربه من الحرم. كل شيء</td>\n",
       "      <td>0</td>\n",
       "    </tr>\n",
       "    <tr>\n",
       "      <th>52848</th>\n",
       "      <td>مخيب للأمل. . سوء التنسيق من حيث معرفة الغرف ب...</td>\n",
       "      <td>0</td>\n",
       "    </tr>\n",
       "  </tbody>\n",
       "</table>\n",
       "<p>52849 rows × 2 columns</p>\n",
       "</div>"
      ],
      "text/plain": [
       "                                                  review  opinion\n",
       "0                      “ممتاز”. النظافة والطاقم متعاون.         0\n",
       "1      “استغرب تقييم الفندق كخمس نجوم”. لا شي. يستحق ...        0\n",
       "2      “أسرة اماراتية.”. فندق مبنى على الطراز الحديث،...        0\n",
       "3      “موظف المسبح سيء جدا”. . موظف المسبح سيء جدامع...        0\n",
       "4                       “اقامة ممتعة”. . الموقع والنظافة        0\n",
       "5      ضعيف جداً. . لم اتوقع الانحدار الذي وصلته الكو...        0\n",
       "6                             “السعودية”. . تعملالموظفين        0\n",
       "7      مخيب للأمل. اكثر الفنادق تقدر تسوي جك أوت السا...        0\n",
       "8      “اقامة غير سعيدة لوجود قصور فالخدمة”. . مدخل ا...        0\n",
       "9      مخيب للأمل. الموقع جيد. تعامل طاقم العمل سي وب...        0\n",
       "10                                ضعيف جداً. فندق رائع.         0\n",
       "11                    ضعيف جداً. الغخامه انصح فيه بقوه.         0\n",
       "12     “اختيار غير موفق في الشارقه”. . الموقع الوديكو...        0\n",
       "13     ضعيف جداً. . دفع قيمة التأمين اجباري 500 درهم ...        0\n",
       "14     “لن أسكن فيه مرة أخرى”. الإنترنت جيد. حجزت بمب...        0\n",
       "15     “غير صالح للاقامة الى ان تنتهي العمليات الانشا...        0\n",
       "16     “اسواء تعامل تعاملته مع هذا الفندق”. . لم يعجب...        0\n",
       "17     “ضعيف”. لا شيا. سياء من حيث الغرف والمواقف وال...        0\n",
       "18     “لا انصح فيه”. الافطار كان جيد. غااالي ومايستا...        0\n",
       "19     “سوء معامله”. الموقع. طريقة الاستقبال غير جيدة...        0\n",
       "20       “ازعاج”. . ازعاج عشان الجيك أوت الساعه 11 الصبح        0\n",
       "21     “لا للسياحة الداخلية في ضل غياب الرقابة”. لايو...        0\n",
       "22            مخيب للأمل. . الفطور سيئ والاستقبال نصابين        0\n",
       "23     “اسوء فندق او ليس فندق غرف مفروشة كتير عليه”. ...        0\n",
       "24     “لا انصح به يوجد الافضل بالقرب منه”. . تعامل ا...        0\n",
       "25     “لا داعي للسفر لاي سياحة داخلية طالما المستثمر...        0\n",
       "26     ضعيف. شبكة الواي فاي فقط لاغير. الافطار لم يرت...        0\n",
       "27     “جيد”. الغرفة والصالة جيدة وواسعة. الحمام صغير...        0\n",
       "28     “عنوان للحساسيه والربو”. النظافه. الموقع. لايو...        0\n",
       "29     ضعيف جداً. للاسف ولا شيء. كانت اتعس اختيار لي ...        0\n",
       "...                                                  ...      ...\n",
       "52819  “فندق غير مقبول”. فندق عدم دخلت الغرفه كان يوج...        0\n",
       "52820  “من اتعس الفنادق”. لم يعجبني شئ بهذا الفندق وا...        0\n",
       "52821  “تجربه سيئه جدااا”. ولا شي. عدم الالتزام بنوع ...        0\n",
       "52822  مخيب للأمل. . لقد كان الحجز على booking .com م...        0\n",
       "52823  “المراتب غير صالحة للنوم واقمت لمدة 6 ايام ولم...        0\n",
       "52824  “فندق غير مناسب ابدا للعيش فيه ..غير نظيف ابدا...        0\n",
       "52825  “الفندق وجده ضمن عروض بوكينج يضر بمصداقيتها”. ...        0\n",
       "52826  “It's cheating the photos is not as it in real...        0\n",
       "52827  “الزياره”. وجود محلات صغيره للتموين حول الفندق...        0\n",
       "52828  “اسوى موزفي استقبال مرو علي في جميع رحﻻتي كداب...        0\n",
       "52829  مخيب للأمل. حسن تعامل موظفين الاستقبال. الأثاث...        0\n",
       "52830  مخيب للأمل. الموقع. الخدمات ضعيفه جداالعاملين ...        0\n",
       "52831  مخيب للأمل. التكييف في الغرفةاسرة الغرف. صور غ...        0\n",
       "52832  مخيب للأمل. . عدم تنظيف الغرف الخدمه سيئه عدم ...        0\n",
       "52833  ضعيف. سهوله اجراءات الدخول. يوجد نزلاء قذرين ص...        0\n",
       "52834  ضعيف. قريب من الحرم. الفطار سي خدمه الغرف سيعد...        0\n",
       "52835             ضعيف جداً. . يوجد قمل الفراش في السرير        0\n",
       "52836  “سيء جداً”. نظافة الغرف والفرش مجدد. تم نقلنا ...        0\n",
       "52837  “مقبول نسبيا”. موظفو الأمن ومواقف السيارات في ...        0\n",
       "52838  ضعيف. لا يوجد شي في الفندق يعجب. الخدمات وموظف...        0\n",
       "52839  “مقبول”. القرب من المسجد النبوي. استلمنا الغرف...        0\n",
       "52840  ضعيف جداً. . انتظار اكثر من نصف ساعه لتسجيل ال...        0\n",
       "52841  “كل شيء فيه سيء جدا خدمات ونظافة ومواقف سيئة و...        0\n",
       "52842  مخيب للأمل. قربه من الحرم والافطار. الخدمه سيئ...        0\n",
       "52843  “رديه”. موظفين الاستقبال. ازعاج الساعه 2 يدقون...        0\n",
       "52844  “فند”. لا شئ عجبني. طقم العمل سيئ جدالا يوجد ب...        0\n",
       "52845  “سيئ”. قربه من المسجد النبوي الشريف. استخدام م...        0\n",
       "52846  “اسوأ إقامة في الرحلة !”. القرب من الحرم. كل ش...        0\n",
       "52847               “دون المستوى”. قربه من الحرم. كل شيء        0\n",
       "52848  مخيب للأمل. . سوء التنسيق من حيث معرفة الغرف ب...        0\n",
       "\n",
       "[52849 rows x 2 columns]"
      ]
     },
     "execution_count": 7,
     "metadata": {},
     "output_type": "execute_result"
    }
   ],
   "source": [
    "negative"
   ]
  },
  {
   "cell_type": "markdown",
   "metadata": {},
   "source": [
    "### 2. Getting the positive reviews"
   ]
  },
  {
   "cell_type": "code",
   "execution_count": 8,
   "metadata": {},
   "outputs": [
    {
     "name": "stderr",
     "output_type": "stream",
     "text": [
      "D:\\Anaconda\\lib\\site-packages\\ipykernel_launcher.py:2: SettingWithCopyWarning: \n",
      "A value is trying to be set on a copy of a slice from a DataFrame.\n",
      "Try using .loc[row_indexer,col_indexer] = value instead\n",
      "\n",
      "See the caveats in the documentation: http://pandas.pydata.org/pandas-docs/stable/indexing.html#indexing-view-versus-copy\n",
      "  \n"
     ]
    }
   ],
   "source": [
    "balancedP=balanced.loc[balanced['rating'] >= 3]#getting positive\n",
    "balancedP['opinion']=1\n",
    "positive=balancedP[['review','opinion']]\n",
    "positive=positive.reset_index()\n",
    "positive = positive.drop('index', 1)"
   ]
  },
  {
   "cell_type": "code",
   "execution_count": 9,
   "metadata": {},
   "outputs": [
    {
     "name": "stdout",
     "output_type": "stream",
     "text": [
      "<class 'pandas.core.frame.DataFrame'>\n",
      "RangeIndex: 52849 entries, 0 to 52848\n",
      "Data columns (total 2 columns):\n",
      "review     52849 non-null object\n",
      "opinion    52849 non-null int64\n",
      "dtypes: int64(1), object(1)\n",
      "memory usage: 825.8+ KB\n"
     ]
    }
   ],
   "source": [
    "positive.info()"
   ]
  },
  {
   "cell_type": "code",
   "execution_count": 10,
   "metadata": {},
   "outputs": [
    {
     "data": {
      "text/html": [
       "<div>\n",
       "<style scoped>\n",
       "    .dataframe tbody tr th:only-of-type {\n",
       "        vertical-align: middle;\n",
       "    }\n",
       "\n",
       "    .dataframe tbody tr th {\n",
       "        vertical-align: top;\n",
       "    }\n",
       "\n",
       "    .dataframe thead th {\n",
       "        text-align: right;\n",
       "    }\n",
       "</style>\n",
       "<table border=\"1\" class=\"dataframe\">\n",
       "  <thead>\n",
       "    <tr style=\"text-align: right;\">\n",
       "      <th></th>\n",
       "      <th>review</th>\n",
       "      <th>opinion</th>\n",
       "    </tr>\n",
       "  </thead>\n",
       "  <tbody>\n",
       "    <tr>\n",
       "      <th>0</th>\n",
       "      <td>استثنائي. سهولة إنهاء المعاملة في الاستقبال. ل...</td>\n",
       "      <td>1</td>\n",
       "    </tr>\n",
       "    <tr>\n",
       "      <th>1</th>\n",
       "      <td>استثنائي. انصح بأختيار الاسويت و بالاخص غرفه ر...</td>\n",
       "      <td>1</td>\n",
       "    </tr>\n",
       "    <tr>\n",
       "      <th>2</th>\n",
       "      <td>جيد. المكان جميل وهاديء. كل شي جيد ونظيف بس كا...</td>\n",
       "      <td>1</td>\n",
       "    </tr>\n",
       "    <tr>\n",
       "      <th>3</th>\n",
       "      <td>ممتاز. موقع الفندق ونظافته والاطلاله على البحر...</td>\n",
       "      <td>1</td>\n",
       "    </tr>\n",
       "    <tr>\n",
       "      <th>4</th>\n",
       "      <td>“جيدجداً”. الافطار جيد والسرير ممتاز ومريح واط...</td>\n",
       "      <td>1</td>\n",
       "    </tr>\n",
       "  </tbody>\n",
       "</table>\n",
       "</div>"
      ],
      "text/plain": [
       "                                              review  opinion\n",
       "0  استثنائي. سهولة إنهاء المعاملة في الاستقبال. ل...        1\n",
       "1  استثنائي. انصح بأختيار الاسويت و بالاخص غرفه ر...        1\n",
       "2  جيد. المكان جميل وهاديء. كل شي جيد ونظيف بس كا...        1\n",
       "3  ممتاز. موقع الفندق ونظافته والاطلاله على البحر...        1\n",
       "4  “جيدجداً”. الافطار جيد والسرير ممتاز ومريح واط...        1"
      ]
     },
     "execution_count": 10,
     "metadata": {},
     "output_type": "execute_result"
    }
   ],
   "source": [
    "positive.head()"
   ]
  },
  {
   "cell_type": "markdown",
   "metadata": {},
   "source": [
    "### Merge the dataframes"
   ]
  },
  {
   "cell_type": "code",
   "execution_count": 116,
   "metadata": {},
   "outputs": [],
   "source": [
    "frames = [positive,negative]\n",
    "final = pd.concat(frames)"
   ]
  },
  {
   "cell_type": "code",
   "execution_count": 117,
   "metadata": {},
   "outputs": [],
   "source": [
    "from sklearn.utils import shuffle\n",
    "final = shuffle(final)"
   ]
  },
  {
   "cell_type": "code",
   "execution_count": 118,
   "metadata": {},
   "outputs": [
    {
     "data": {
      "text/html": [
       "<div>\n",
       "<style scoped>\n",
       "    .dataframe tbody tr th:only-of-type {\n",
       "        vertical-align: middle;\n",
       "    }\n",
       "\n",
       "    .dataframe tbody tr th {\n",
       "        vertical-align: top;\n",
       "    }\n",
       "\n",
       "    .dataframe thead th {\n",
       "        text-align: right;\n",
       "    }\n",
       "</style>\n",
       "<table border=\"1\" class=\"dataframe\">\n",
       "  <thead>\n",
       "    <tr style=\"text-align: right;\">\n",
       "      <th></th>\n",
       "      <th>review</th>\n",
       "      <th>opinion</th>\n",
       "    </tr>\n",
       "  </thead>\n",
       "  <tbody>\n",
       "    <tr>\n",
       "      <th>23455</th>\n",
       "      <td>ممتاز. قربه من الحرم- النظافة- الانترنت- المطع...</td>\n",
       "      <td>1</td>\n",
       "    </tr>\n",
       "    <tr>\n",
       "      <th>40993</th>\n",
       "      <td>“ابو فيصل الخارجيه”. اعجبني الفندق ومكانه الها...</td>\n",
       "      <td>1</td>\n",
       "    </tr>\n",
       "    <tr>\n",
       "      <th>44093</th>\n",
       "      <td>“موقع رائع ومطل على الحرم”. Location and frien...</td>\n",
       "      <td>1</td>\n",
       "    </tr>\n",
       "    <tr>\n",
       "      <th>4570</th>\n",
       "      <td>“جميرا قادمون”. روعه واحترام. لا شيء</td>\n",
       "      <td>1</td>\n",
       "    </tr>\n",
       "    <tr>\n",
       "      <th>13049</th>\n",
       "      <td>ضعيف جداً. . موظفين الاستقبال سيئين جداً يتصلو...</td>\n",
       "      <td>0</td>\n",
       "    </tr>\n",
       "  </tbody>\n",
       "</table>\n",
       "</div>"
      ],
      "text/plain": [
       "                                                  review  opinion\n",
       "23455  ممتاز. قربه من الحرم- النظافة- الانترنت- المطع...        1\n",
       "40993  “ابو فيصل الخارجيه”. اعجبني الفندق ومكانه الها...        1\n",
       "44093  “موقع رائع ومطل على الحرم”. Location and frien...        1\n",
       "4570                “جميرا قادمون”. روعه واحترام. لا شيء        1\n",
       "13049  ضعيف جداً. . موظفين الاستقبال سيئين جداً يتصلو...        0"
      ]
     },
     "execution_count": 118,
     "metadata": {},
     "output_type": "execute_result"
    }
   ],
   "source": [
    "final.head()"
   ]
  },
  {
   "cell_type": "markdown",
   "metadata": {},
   "source": [
    "### Data preprocessing"
   ]
  },
  {
   "cell_type": "code",
   "execution_count": 119,
   "metadata": {},
   "outputs": [],
   "source": [
    "X, y = (final['review'].values, final['opinion'].values)"
   ]
  },
  {
   "cell_type": "code",
   "execution_count": 120,
   "metadata": {},
   "outputs": [],
   "source": [
    "from keras.preprocessing.text import Tokenizer\n",
    "from keras.preprocessing.sequence import pad_sequences\n",
    "tk = Tokenizer(lower = True)\n",
    "tk.fit_on_texts(X)\n",
    "X_seq = tk.texts_to_sequences(X)\n",
    "X_pad = pad_sequences(X_seq, maxlen=100, padding='post')"
   ]
  },
  {
   "cell_type": "markdown",
   "metadata": {},
   "source": [
    "### Split Data"
   ]
  },
  {
   "cell_type": "code",
   "execution_count": 121,
   "metadata": {},
   "outputs": [],
   "source": [
    "from sklearn.model_selection import train_test_split\n",
    "X_train, X_test, y_train, y_test = train_test_split(X_pad, y, test_size = 0.25, random_state = 1)"
   ]
  },
  {
   "cell_type": "code",
   "execution_count": 122,
   "metadata": {},
   "outputs": [],
   "source": [
    "batch_size = 64\n",
    "X_train1 = X_train[batch_size:]\n",
    "y_train1 = y_train[batch_size:]\n",
    "X_valid = X_train[:batch_size]\n",
    "y_valid = y_train[:batch_size]"
   ]
  },
  {
   "cell_type": "code",
   "execution_count": 123,
   "metadata": {},
   "outputs": [],
   "source": [
    "from keras.models import Sequential\n",
    "from keras.layers import Embedding, LSTM, Dense, Dropout\n",
    "vocabulary_size = len(tk.word_counts.keys())+1\n",
    "max_words = 100\n",
    "embedding_size = 32\n",
    "model = Sequential()\n",
    "model.add(Embedding(vocabulary_size, embedding_size, input_length=max_words))\n",
    "model.add(LSTM(200))\n",
    "model.add(Dense(1, activation='sigmoid'))\n",
    "model.compile(loss='binary_crossentropy', optimizer='adam', metrics=['accuracy'])"
   ]
  },
  {
   "cell_type": "code",
   "execution_count": 124,
   "metadata": {},
   "outputs": [
    {
     "name": "stdout",
     "output_type": "stream",
     "text": [
      "Train on 79209 samples, validate on 64 samples\n",
      "Epoch 1/5\n",
      "79209/79209 [==============================] - 272s 3ms/step - loss: 0.6933 - acc: 0.5100 - val_loss: 0.6905 - val_acc: 0.6094\n",
      "Epoch 2/5\n",
      "79209/79209 [==============================] - 301s 4ms/step - loss: 0.4062 - acc: 0.7776 - val_loss: 0.1621 - val_acc: 0.9531\n",
      "Epoch 3/5\n",
      "79209/79209 [==============================] - 306s 4ms/step - loss: 0.1424 - acc: 0.9506 - val_loss: 0.1697 - val_acc: 0.9219\n",
      "Epoch 4/5\n",
      "79209/79209 [==============================] - 319s 4ms/step - loss: 0.0925 - acc: 0.9702 - val_loss: 0.2054 - val_acc: 0.9375\n",
      "Epoch 5/5\n",
      "79209/79209 [==============================] - 306s 4ms/step - loss: 0.0613 - acc: 0.9814 - val_loss: 0.2118 - val_acc: 0.9531\n"
     ]
    }
   ],
   "source": [
    "RNN_Model=model.fit(X_train1,y_train1,validation_data=(X_valid,y_valid),batch_size=batch_size,epochs=5)"
   ]
  },
  {
   "cell_type": "code",
   "execution_count": 125,
   "metadata": {},
   "outputs": [
    {
     "name": "stdout",
     "output_type": "stream",
     "text": [
      "test acc=  0.9391863765373699\n"
     ]
    }
   ],
   "source": [
    "scores=model.evaluate(X_test,y_test,verbose=0)\n",
    "print(\"test acc= \",scores[1])"
   ]
  },
  {
   "cell_type": "code",
   "execution_count": 126,
   "metadata": {},
   "outputs": [
    {
     "data": {
      "text/html": [
       "<div>\n",
       "<style scoped>\n",
       "    .dataframe tbody tr th:only-of-type {\n",
       "        vertical-align: middle;\n",
       "    }\n",
       "\n",
       "    .dataframe tbody tr th {\n",
       "        vertical-align: top;\n",
       "    }\n",
       "\n",
       "    .dataframe thead th {\n",
       "        text-align: right;\n",
       "    }\n",
       "</style>\n",
       "<table border=\"1\" class=\"dataframe\">\n",
       "  <thead>\n",
       "    <tr style=\"text-align: right;\">\n",
       "      <th></th>\n",
       "      <th>0</th>\n",
       "      <th>1</th>\n",
       "    </tr>\n",
       "  </thead>\n",
       "  <tbody>\n",
       "    <tr>\n",
       "      <th>0</th>\n",
       "      <td>معلومه سيئة</td>\n",
       "      <td>[0]</td>\n",
       "    </tr>\n",
       "    <tr>\n",
       "      <th>1</th>\n",
       "      <td>السبسي مكروه جدا</td>\n",
       "      <td>[1]</td>\n",
       "    </tr>\n",
       "    <tr>\n",
       "      <th>2</th>\n",
       "      <td>ملا هدرة، العرب كذبوا كبة وصدقوها...قالك جامعة...</td>\n",
       "      <td>[1]</td>\n",
       "    </tr>\n",
       "    <tr>\n",
       "      <th>3</th>\n",
       "      <td>و نعم الصديق</td>\n",
       "      <td>[1]</td>\n",
       "    </tr>\n",
       "  </tbody>\n",
       "</table>\n",
       "</div>"
      ],
      "text/plain": [
       "                                                   0    1\n",
       "0                                        معلومه سيئة  [0]\n",
       "1                                   السبسي مكروه جدا  [1]\n",
       "2  ملا هدرة، العرب كذبوا كبة وصدقوها...قالك جامعة...  [1]\n",
       "3                                       و نعم الصديق  [1]"
      ]
     },
     "execution_count": 126,
     "metadata": {},
     "output_type": "execute_result"
    }
   ],
   "source": [
    "#prepare to check\n",
    "lst1=[]\n",
    "rev1=\" معلومه سيئة\"\n",
    "rev2=\"السبسي مكروه جدا\"\n",
    "rev3=\"ملا هدرة، العرب كذبوا كبة وصدقوها...قالك جامعة دول عربية..اتفق العرب على الا يتفقوا\"\n",
    "rev4=\"و نعم الصديق\"\n",
    "\n",
    "\n",
    "lst1.append(rev1)\n",
    "lst1.append(rev2)\n",
    "lst1.append(rev3)\n",
    "lst1.append(rev4)\n",
    "\n",
    "\n",
    "\n",
    "df=pd.DataFrame(list(zip(lst1)),\n",
    "              columns=['review'])\n",
    "Check_set=df.review.values\n",
    "Check_seq = tk.texts_to_sequences(Check_set)\n",
    "Check_pad = pad_sequences(Check_seq, maxlen = 100, padding = 'post')\n",
    "#predict opinion\n",
    "check_predict=model.predict_classes(Check_pad,verbose=0)\n",
    "# Prepare data frame\n",
    "check_df = pd.DataFrame(list(zip(df.review.values, check_predict)))\n",
    "check_df\n"
   ]
  },
  {
   "cell_type": "markdown",
   "metadata": {},
   "source": [
    "# Les Commentaires : "
   ]
  },
  {
   "cell_type": "markdown",
   "metadata": {},
   "source": [
    "### <font color=' #ff3300'> Youssef Chahed : </font><br>"
   ]
  },
  {
   "cell_type": "code",
   "execution_count": 127,
   "metadata": {},
   "outputs": [],
   "source": [
    "my_encoding_Comments = find_encoding('data/commentsYoutubeCandidatF.csv')\n",
    "line     = []\n",
    "expected = []\n",
    "saw      = []     \n",
    "cont     = True \n",
    "\n",
    "while cont == True:     \n",
    "    try:\n",
    "        data = pd.read_csv('data/commentsYoutubeCandidatF.csv',skiprows=line)\n",
    "        cont = False\n",
    "    except Exception as e:    \n",
    "        errortype = e.message.split('.')[0].strip()                                \n",
    "        if errortype == 'Error tokenizing data':                        \n",
    "            cerror      = e.message.split(':')[1].strip().replace(',','')\n",
    "            nums        = [n for n in cerror.split(' ') if str.isdigit(n)]\n",
    "            expected.append(int(nums[0]))\n",
    "            saw.append(int(nums[2]))\n",
    "            line.append(int(nums[1])-1)\n",
    "        else:\n",
    "            cerror      = 'Unknown'\n",
    "            print ('Unknown Error - 222')"
   ]
  },
  {
   "cell_type": "code",
   "execution_count": 128,
   "metadata": {},
   "outputs": [
    {
     "data": {
      "text/plain": [
       "Beji Caied Essebssi     81\n",
       "Youssef chahed          77\n",
       "Mohsen Marzouk          68\n",
       "Yacine Ayari            27\n",
       "Sami dilou              23\n",
       "Kamel Morjane           20\n",
       "Yacine ibrahim          15\n",
       "Said El Aidi            14\n",
       "Neji Jalloul            13\n",
       "Nourredine bhiri        12\n",
       "Rached Ghannouchi       12\n",
       "Mehdi Jomaa             10\n",
       "Abir Moussi              6\n",
       "Samia Abbou              6\n",
       "Nouredine tabboubi       5\n",
       "Rene trabelsi            4\n",
       "Hamma hamami             3\n",
       "Moncef marzouki          3\n",
       "Walid jalled             2\n",
       "Name: candidat, dtype: int64"
      ]
     },
     "execution_count": 128,
     "metadata": {},
     "output_type": "execute_result"
    }
   ],
   "source": [
    "data['candidat'].value_counts()"
   ]
  },
  {
   "cell_type": "code",
   "execution_count": 131,
   "metadata": {},
   "outputs": [],
   "source": [
    "Chahed=data[data['candidat'] == 'Youssef chahed ']"
   ]
  },
  {
   "cell_type": "code",
   "execution_count": 132,
   "metadata": {},
   "outputs": [],
   "source": [
    "Chahed=Chahed.iloc[:,3].to_frame()"
   ]
  },
  {
   "cell_type": "code",
   "execution_count": 133,
   "metadata": {},
   "outputs": [],
   "source": [
    "Chahed=Chahed.iloc[1:,:]"
   ]
  },
  {
   "cell_type": "code",
   "execution_count": 134,
   "metadata": {},
   "outputs": [],
   "source": [
    "Check_set=Chahed.textDisplay.values\n",
    "try: \n",
    "    Check_seq = tk.texts_to_sequences(str(Check_set))\n",
    "    Check_pad = pad_sequences(Check_seq, maxlen = 100, padding = 'post')\n",
    "    #predict opinion\n",
    "    check_predict=model.predict_classes(Check_pad,verbose=0)\n",
    "    # Prepare data frame\n",
    "    check_df = pd.DataFrame(list(zip(Chahed.textDisplay.values, check_predict)) ,columns=['text', 'sentiment'])\n",
    "    check_df\n",
    "except Exception:\n",
    "    pass"
   ]
  },
  {
   "cell_type": "code",
   "execution_count": 135,
   "metadata": {},
   "outputs": [],
   "source": [
    "check_df.sentiment=check_df.iloc[:,1].apply(lambda x :x[0])"
   ]
  },
  {
   "cell_type": "code",
   "execution_count": 136,
   "metadata": {},
   "outputs": [],
   "source": [
    "check_df['sentiment'] = pd.Categorical(check_df.sentiment)"
   ]
  },
  {
   "cell_type": "code",
   "execution_count": 137,
   "metadata": {},
   "outputs": [
    {
     "data": {
      "text/plain": [
       "0    60\n",
       "1    16\n",
       "Name: sentiment, dtype: int64"
      ]
     },
     "execution_count": 137,
     "metadata": {},
     "output_type": "execute_result"
    }
   ],
   "source": [
    "check_df['sentiment'].value_counts()"
   ]
  },
  {
   "cell_type": "code",
   "execution_count": 172,
   "metadata": {},
   "outputs": [],
   "source": [
    "ChahedPositive=check_df['sentiment'].value_counts()[1]\n",
    "ChahedNegative=check_df['sentiment'].value_counts()[0]"
   ]
  },
  {
   "cell_type": "code",
   "execution_count": 139,
   "metadata": {},
   "outputs": [],
   "source": [
    "import seaborn as sns\n",
    "sns.set(color_codes=True)"
   ]
  },
  {
   "cell_type": "code",
   "execution_count": 140,
   "metadata": {},
   "outputs": [
    {
     "data": {
      "image/png": "[encoded data removed]",
      "text/plain": [
       "<Figure size 432x288 with 1 Axes>"
      ]
     },
     "metadata": {},
     "output_type": "display_data"
    }
   ],
   "source": [
    "ax = sns.countplot(x=\"sentiment\", data=check_df)"
   ]
  },
  {
   "cell_type": "markdown",
   "metadata": {},
   "source": [
    "### <font color=' #ff3300'> Sebsi : </font><br>"
   ]
  },
  {
   "cell_type": "code",
   "execution_count": 141,
   "metadata": {},
   "outputs": [],
   "source": [
    "def Analyse(data,politicien):\n",
    "    p=data[data['candidat'] == str(politicien)]\n",
    "    p=p.iloc[:,3].to_frame()\n",
    "    Check_set=p.textDisplay.values\n",
    "    try: \n",
    "        Check_seq = tk.texts_to_sequences(str(Check_set))\n",
    "        Check_pad = pad_sequences(Check_seq, maxlen = 100, padding = 'post')\n",
    "        #predict opinion\n",
    "        check_predict=model.predict_classes(Check_pad,verbose=0)\n",
    "        # Prepare data frame\n",
    "        check_df = pd.DataFrame(list(zip(p.textDisplay.values, check_predict)) ,columns=['text', 'sentiment'])\n",
    "        check_df\n",
    "    except Exception:\n",
    "        pass\n",
    "    check_df.sentiment=check_df.iloc[:,1].apply(lambda x :x[0])\n",
    "    check_df['sentiment'] = pd.Categorical(check_df.sentiment)\n",
    "    return check_df"
   ]
  },
  {
   "cell_type": "code",
   "execution_count": 142,
   "metadata": {},
   "outputs": [],
   "source": [
    "Sebsi=Analyse(data,\"Beji Caied Essebssi \")"
   ]
  },
  {
   "cell_type": "code",
   "execution_count": 143,
   "metadata": {},
   "outputs": [
    {
     "data": {
      "text/plain": [
       "0    64\n",
       "1    17\n",
       "Name: sentiment, dtype: int64"
      ]
     },
     "execution_count": 143,
     "metadata": {},
     "output_type": "execute_result"
    }
   ],
   "source": [
    "Sebsi['sentiment'].value_counts()"
   ]
  },
  {
   "cell_type": "code",
   "execution_count": 144,
   "metadata": {},
   "outputs": [],
   "source": [
    "SebsiPositive=Sebsi['sentiment'].value_counts()[1]\n",
    "SebsiNegative=Sebsi['sentiment'].value_counts()[0]"
   ]
  },
  {
   "cell_type": "code",
   "execution_count": 145,
   "metadata": {},
   "outputs": [
    {
     "data": {
      "image/png": "[encoded data removed]",
      "text/plain": [
       "<Figure size 432x288 with 1 Axes>"
      ]
     },
     "metadata": {},
     "output_type": "display_data"
    }
   ],
   "source": [
    "ax = sns.countplot(x=\"sentiment\", data=Sebsi)"
   ]
  },
  {
   "cell_type": "markdown",
   "metadata": {},
   "source": [
    "### <font color=' #ff3300'> Marzouk : </font><br>"
   ]
  },
  {
   "cell_type": "code",
   "execution_count": 146,
   "metadata": {},
   "outputs": [],
   "source": [
    "Marzouk=Analyse(data,\"Mohsen Marzouk \")   "
   ]
  },
  {
   "cell_type": "code",
   "execution_count": 147,
   "metadata": {},
   "outputs": [
    {
     "data": {
      "text/plain": [
       "0    48\n",
       "1    20\n",
       "Name: sentiment, dtype: int64"
      ]
     },
     "execution_count": 147,
     "metadata": {},
     "output_type": "execute_result"
    }
   ],
   "source": [
    "Marzouk['sentiment'].value_counts()"
   ]
  },
  {
   "cell_type": "code",
   "execution_count": 148,
   "metadata": {},
   "outputs": [],
   "source": [
    "MarzoukPositive=Marzouk['sentiment'].value_counts()[1]\n",
    "MarzoukNegative=Marzouk['sentiment'].value_counts()[0]"
   ]
  },
  {
   "cell_type": "code",
   "execution_count": 149,
   "metadata": {},
   "outputs": [
    {
     "data": {
      "image/png": "[encoded data removed]",
      "text/plain": [
       "<Figure size 432x288 with 1 Axes>"
      ]
     },
     "metadata": {},
     "output_type": "display_data"
    }
   ],
   "source": [
    "ax = sns.countplot(x=\"sentiment\", data=Marzouk)"
   ]
  },
  {
   "cell_type": "markdown",
   "metadata": {},
   "source": [
    "### <font color=' #ff3300'> Ayari : </font><br>"
   ]
  },
  {
   "cell_type": "code",
   "execution_count": 150,
   "metadata": {},
   "outputs": [],
   "source": [
    "Ayari=Analyse(data,\"Yacine Ayari \")  "
   ]
  },
  {
   "cell_type": "code",
   "execution_count": 151,
   "metadata": {},
   "outputs": [
    {
     "data": {
      "text/plain": [
       "0    16\n",
       "1    11\n",
       "Name: sentiment, dtype: int64"
      ]
     },
     "execution_count": 151,
     "metadata": {},
     "output_type": "execute_result"
    }
   ],
   "source": [
    "Ayari['sentiment'].value_counts()"
   ]
  },
  {
   "cell_type": "code",
   "execution_count": 152,
   "metadata": {},
   "outputs": [],
   "source": [
    "AyariPositive=Ayari['sentiment'].value_counts()[1]\n",
    "AyariNegative=Ayari['sentiment'].value_counts()[0]"
   ]
  },
  {
   "cell_type": "code",
   "execution_count": 153,
   "metadata": {},
   "outputs": [
    {
     "data": {
      "image/png": "[encoded data removed]",
      "text/plain": [
       "<Figure size 432x288 with 1 Axes>"
      ]
     },
     "metadata": {},
     "output_type": "display_data"
    }
   ],
   "source": [
    "ax = sns.countplot(x=\"sentiment\", data=Ayari)"
   ]
  },
  {
   "cell_type": "markdown",
   "metadata": {},
   "source": [
    "### <font color=' #ff3300'> Dilo : </font><br>"
   ]
  },
  {
   "cell_type": "code",
   "execution_count": 154,
   "metadata": {},
   "outputs": [],
   "source": [
    "dilou=Analyse(data,\"Sami dilou \")  "
   ]
  },
  {
   "cell_type": "code",
   "execution_count": 155,
   "metadata": {},
   "outputs": [
    {
     "data": {
      "text/plain": [
       "0    21\n",
       "1     2\n",
       "Name: sentiment, dtype: int64"
      ]
     },
     "execution_count": 155,
     "metadata": {},
     "output_type": "execute_result"
    }
   ],
   "source": [
    "dilou['sentiment'].value_counts()"
   ]
  },
  {
   "cell_type": "code",
   "execution_count": 156,
   "metadata": {},
   "outputs": [],
   "source": [
    "dilouPositive=dilou['sentiment'].value_counts()[1]\n",
    "dilouNegative=dilou['sentiment'].value_counts()[0]"
   ]
  },
  {
   "cell_type": "code",
   "execution_count": 157,
   "metadata": {},
   "outputs": [
    {
     "data": {
      "image/png": "[encoded data removed]",
      "text/plain": [
       "<Figure size 432x288 with 1 Axes>"
      ]
     },
     "metadata": {},
     "output_type": "display_data"
    }
   ],
   "source": [
    "ax = sns.countplot(x=\"sentiment\", data=dilou)"
   ]
  },
  {
   "cell_type": "markdown",
   "metadata": {},
   "source": [
    "### <font color=' #ff3300'> Kamel Morjane : </font><br>"
   ]
  },
  {
   "cell_type": "code",
   "execution_count": 158,
   "metadata": {},
   "outputs": [],
   "source": [
    "Morjane=Analyse(data,\"Kamel Morjane \") "
   ]
  },
  {
   "cell_type": "code",
   "execution_count": 159,
   "metadata": {},
   "outputs": [
    {
     "data": {
      "text/plain": [
       "0    16\n",
       "1     4\n",
       "Name: sentiment, dtype: int64"
      ]
     },
     "execution_count": 159,
     "metadata": {},
     "output_type": "execute_result"
    }
   ],
   "source": [
    "Morjane['sentiment'].value_counts()"
   ]
  },
  {
   "cell_type": "code",
   "execution_count": 160,
   "metadata": {},
   "outputs": [],
   "source": [
    "MorjanePositive=Morjane['sentiment'].value_counts()[1]\n",
    "MorjaneNegative=Morjane['sentiment'].value_counts()[0]"
   ]
  },
  {
   "cell_type": "code",
   "execution_count": 161,
   "metadata": {},
   "outputs": [
    {
     "data": {
      "image/png": "[encoded data removed]",
      "text/plain": [
       "<Figure size 432x288 with 1 Axes>"
      ]
     },
     "metadata": {},
     "output_type": "display_data"
    }
   ],
   "source": [
    "ax = sns.countplot(x=\"sentiment\", data=Morjane)"
   ]
  },
  {
   "cell_type": "markdown",
   "metadata": {},
   "source": [
    "### <font color=' #ff3300'> Yacine Ibrahim : </font><br>"
   ]
  },
  {
   "cell_type": "code",
   "execution_count": 165,
   "metadata": {},
   "outputs": [],
   "source": [
    "Yacine_ibrahim =Analyse(data,\"Yacine ibrahim\") "
   ]
  },
  {
   "cell_type": "code",
   "execution_count": 166,
   "metadata": {},
   "outputs": [
    {
     "data": {
      "text/plain": [
       "0    11\n",
       "1     4\n",
       "Name: sentiment, dtype: int64"
      ]
     },
     "execution_count": 166,
     "metadata": {},
     "output_type": "execute_result"
    }
   ],
   "source": [
    "Yacine_ibrahim['sentiment'].value_counts()"
   ]
  },
  {
   "cell_type": "code",
   "execution_count": 168,
   "metadata": {},
   "outputs": [
    {
     "data": {
      "text/plain": [
       "0    11\n",
       "1     4\n",
       "Name: sentiment, dtype: int64"
      ]
     },
     "execution_count": 168,
     "metadata": {},
     "output_type": "execute_result"
    }
   ],
   "source": [
    "Yacine_ibrahim['sentiment'].value_counts()"
   ]
  },
  {
   "cell_type": "code",
   "execution_count": 169,
   "metadata": {},
   "outputs": [],
   "source": [
    "Yacine_ibrahimPositive=Yacine_ibrahim['sentiment'].value_counts()[1]\n",
    "Yacine_ibrahimNegative=Yacine_ibrahim['sentiment'].value_counts()[0]"
   ]
  },
  {
   "cell_type": "code",
   "execution_count": 170,
   "metadata": {},
   "outputs": [
    {
     "data": {
      "image/png": "[encoded data removed]",
      "text/plain": [
       "<Figure size 432x288 with 1 Axes>"
      ]
     },
     "metadata": {},
     "output_type": "display_data"
    }
   ],
   "source": [
    "ax = sns.countplot(x=\"sentiment\", data=Morjane)"
   ]
  },
  {
   "cell_type": "code",
   "execution_count": 173,
   "metadata": {},
   "outputs": [],
   "source": [
    "Report_Final= [ (\"Chahed\",ChahedPositive ,ChahedNegative) ,\n",
    "             (\"Sebsi\",SebsiPositive ,SebsiPositive) ,\n",
    "             (\"Marzouk\",MarzoukPositive ,MarzoukNegative) ,\n",
    "             (\"Ayari\",AyariPositive ,AyarikNegative) ,\n",
    "              (\"Dilo\",dilouPositive ,dilouNegative) ,\n",
    "               (\"Morjane\",MorjanePositive ,MorjaneNegative) ,\n",
    "               (\"Ibrahim\",Yacine_ibrahimPositive ,Yacine_ibrahimNegative)\n",
    "              ]"
   ]
  },
  {
   "cell_type": "code",
   "execution_count": 175,
   "metadata": {},
   "outputs": [],
   "source": [
    "Final = pd.DataFrame(Report_Final, columns = ['Politicien' , 'Polarité_Positive', 'Polarité_Négative'])"
   ]
  },
  {
   "cell_type": "code",
   "execution_count": 176,
   "metadata": {},
   "outputs": [
    {
     "data": {
      "text/html": [
       "<div>\n",
       "<style scoped>\n",
       "    .dataframe tbody tr th:only-of-type {\n",
       "        vertical-align: middle;\n",
       "    }\n",
       "\n",
       "    .dataframe tbody tr th {\n",
       "        vertical-align: top;\n",
       "    }\n",
       "\n",
       "    .dataframe thead th {\n",
       "        text-align: right;\n",
       "    }\n",
       "</style>\n",
       "<table border=\"1\" class=\"dataframe\">\n",
       "  <thead>\n",
       "    <tr style=\"text-align: right;\">\n",
       "      <th></th>\n",
       "      <th>Politicien</th>\n",
       "      <th>Polarité_Positive</th>\n",
       "      <th>Polarité_Négative</th>\n",
       "    </tr>\n",
       "  </thead>\n",
       "  <tbody>\n",
       "    <tr>\n",
       "      <th>0</th>\n",
       "      <td>Chahed</td>\n",
       "      <td>16</td>\n",
       "      <td>60</td>\n",
       "    </tr>\n",
       "    <tr>\n",
       "      <th>1</th>\n",
       "      <td>Sebsi</td>\n",
       "      <td>17</td>\n",
       "      <td>17</td>\n",
       "    </tr>\n",
       "    <tr>\n",
       "      <th>2</th>\n",
       "      <td>Marzouk</td>\n",
       "      <td>20</td>\n",
       "      <td>48</td>\n",
       "    </tr>\n",
       "    <tr>\n",
       "      <th>3</th>\n",
       "      <td>Ayari</td>\n",
       "      <td>11</td>\n",
       "      <td>2</td>\n",
       "    </tr>\n",
       "    <tr>\n",
       "      <th>4</th>\n",
       "      <td>Dilo</td>\n",
       "      <td>2</td>\n",
       "      <td>21</td>\n",
       "    </tr>\n",
       "  </tbody>\n",
       "</table>\n",
       "</div>"
      ],
      "text/plain": [
       "  Politicien  Polarité_Positive  Polarité_Négative\n",
       "0     Chahed                 16                 60\n",
       "1      Sebsi                 17                 17\n",
       "2    Marzouk                 20                 48\n",
       "3      Ayari                 11                  2\n",
       "4       Dilo                  2                 21"
      ]
     },
     "execution_count": 176,
     "metadata": {},
     "output_type": "execute_result"
    }
   ],
   "source": [
    "Final.head()"
   ]
  },
  {
   "cell_type": "code",
   "execution_count": 178,
   "metadata": {},
   "outputs": [],
   "source": [
    "Final.to_csv(\"data/Polarité_Politique.csv\", sep='\\t', encoding='utf-8')"
   ]
  },
  {
   "cell_type": "markdown",
   "metadata": {},
   "source": [
    "# 2. Analyse sentimentals de quelques Tweets"
   ]
  },
  {
   "cell_type": "code",
   "execution_count": 109,
   "metadata": {},
   "outputs": [],
   "source": [
    "Tweet=pd.read_csv(\"data/tweetspolitics.csv\")"
   ]
  },
  {
   "cell_type": "code",
   "execution_count": 110,
   "metadata": {},
   "outputs": [
    {
     "data": {
      "text/html": [
       "<div>\n",
       "<style scoped>\n",
       "    .dataframe tbody tr th:only-of-type {\n",
       "        vertical-align: middle;\n",
       "    }\n",
       "\n",
       "    .dataframe tbody tr th {\n",
       "        vertical-align: top;\n",
       "    }\n",
       "\n",
       "    .dataframe thead th {\n",
       "        text-align: right;\n",
       "    }\n",
       "</style>\n",
       "<table border=\"1\" class=\"dataframe\">\n",
       "  <thead>\n",
       "    <tr style=\"text-align: right;\">\n",
       "      <th></th>\n",
       "      <th>Unnamed: 0</th>\n",
       "      <th>timestamp</th>\n",
       "      <th>sn</th>\n",
       "      <th>text</th>\n",
       "    </tr>\n",
       "  </thead>\n",
       "  <tbody>\n",
       "    <tr>\n",
       "      <th>0</th>\n",
       "      <td>0</td>\n",
       "      <td>2019-05-09 14:02:37</td>\n",
       "      <td>GnetTunisie</td>\n",
       "      <td>#Tunisie 🇹🇳#YoussefChahed promet une couvertur...</td>\n",
       "    </tr>\n",
       "    <tr>\n",
       "      <th>1</th>\n",
       "      <td>1</td>\n",
       "      <td>2019-05-09 12:04:40</td>\n",
       "      <td>ZiedToons</td>\n",
       "      <td>#Tunisie: #YoussefChahed annonce un projet de ...</td>\n",
       "    </tr>\n",
       "    <tr>\n",
       "      <th>2</th>\n",
       "      <td>2</td>\n",
       "      <td>2019-05-08 12:37:38</td>\n",
       "      <td>kcufoglu</td>\n",
       "      <td>#Anas is a #young #man from #Tunisia. He was #...</td>\n",
       "    </tr>\n",
       "    <tr>\n",
       "      <th>3</th>\n",
       "      <td>3</td>\n",
       "      <td>2019-05-08 12:19:42</td>\n",
       "      <td>kcufoglu</td>\n",
       "      <td>#Anas, a #young man from #Tunisia, was sentenc...</td>\n",
       "    </tr>\n",
       "    <tr>\n",
       "      <th>4</th>\n",
       "      <td>4</td>\n",
       "      <td>2019-05-03 11:50:47</td>\n",
       "      <td>LakhdarJalel</td>\n",
       "      <td>RT @BusinessNews_tn: #FatmaMseddi : #YoussefCh...</td>\n",
       "    </tr>\n",
       "  </tbody>\n",
       "</table>\n",
       "</div>"
      ],
      "text/plain": [
       "   Unnamed: 0            timestamp            sn  \\\n",
       "0           0  2019-05-09 14:02:37   GnetTunisie   \n",
       "1           1  2019-05-09 12:04:40     ZiedToons   \n",
       "2           2  2019-05-08 12:37:38      kcufoglu   \n",
       "3           3  2019-05-08 12:19:42      kcufoglu   \n",
       "4           4  2019-05-03 11:50:47  LakhdarJalel   \n",
       "\n",
       "                                                text  \n",
       "0  #Tunisie 🇹🇳#YoussefChahed promet une couvertur...  \n",
       "1  #Tunisie: #YoussefChahed annonce un projet de ...  \n",
       "2  #Anas is a #young #man from #Tunisia. He was #...  \n",
       "3  #Anas, a #young man from #Tunisia, was sentenc...  \n",
       "4  RT @BusinessNews_tn: #FatmaMseddi : #YoussefCh...  "
      ]
     },
     "execution_count": 110,
     "metadata": {},
     "output_type": "execute_result"
    }
   ],
   "source": [
    "Tweet.head()"
   ]
  },
  {
   "cell_type": "code",
   "execution_count": 116,
   "metadata": {},
   "outputs": [],
   "source": [
    "from textblob import TextBlob\n",
    "from textblob_fr import PatternTagger, PatternAnalyzer\n",
    "from textblob import Blobber"
   ]
  },
  {
   "cell_type": "code",
   "execution_count": 122,
   "metadata": {},
   "outputs": [
    {
     "data": {
      "text/plain": [
       "-0.71"
      ]
     },
     "execution_count": 122,
     "metadata": {},
     "output_type": "execute_result"
    }
   ],
   "source": [
    "tb = Blobber(pos_tagger=PatternTagger(), analyzer=PatternAnalyzer())\n",
    "blob1 = tb(u\"Quelle mauvaise matinée\")\n",
    "blob1.sentiment[0]"
   ]
  },
  {
   "cell_type": "code",
   "execution_count": 123,
   "metadata": {},
   "outputs": [],
   "source": [
    "SentimentTweet=[]\n",
    "for index, row in Tweet.iterrows():\n",
    "    blob = tb(row['text'])\n",
    "    SentimentTweet.append(blob.sentiment[0])"
   ]
  },
  {
   "cell_type": "code",
   "execution_count": 125,
   "metadata": {},
   "outputs": [],
   "source": [
    "Tweet[\"Sentiement\"]=SentimentTweet"
   ]
  },
  {
   "cell_type": "code",
   "execution_count": 126,
   "metadata": {},
   "outputs": [
    {
     "data": {
      "text/html": [
       "<div>\n",
       "<style scoped>\n",
       "    .dataframe tbody tr th:only-of-type {\n",
       "        vertical-align: middle;\n",
       "    }\n",
       "\n",
       "    .dataframe tbody tr th {\n",
       "        vertical-align: top;\n",
       "    }\n",
       "\n",
       "    .dataframe thead th {\n",
       "        text-align: right;\n",
       "    }\n",
       "</style>\n",
       "<table border=\"1\" class=\"dataframe\">\n",
       "  <thead>\n",
       "    <tr style=\"text-align: right;\">\n",
       "      <th></th>\n",
       "      <th>Unnamed: 0</th>\n",
       "      <th>timestamp</th>\n",
       "      <th>sn</th>\n",
       "      <th>text</th>\n",
       "      <th>Sentiement</th>\n",
       "    </tr>\n",
       "  </thead>\n",
       "  <tbody>\n",
       "    <tr>\n",
       "      <th>0</th>\n",
       "      <td>0</td>\n",
       "      <td>2019-05-09 14:02:37</td>\n",
       "      <td>GnetTunisie</td>\n",
       "      <td>#Tunisie 🇹🇳#YoussefChahed promet une couvertur...</td>\n",
       "      <td>0.250</td>\n",
       "    </tr>\n",
       "    <tr>\n",
       "      <th>1</th>\n",
       "      <td>1</td>\n",
       "      <td>2019-05-09 12:04:40</td>\n",
       "      <td>ZiedToons</td>\n",
       "      <td>#Tunisie: #YoussefChahed annonce un projet de ...</td>\n",
       "      <td>0.000</td>\n",
       "    </tr>\n",
       "    <tr>\n",
       "      <th>2</th>\n",
       "      <td>2</td>\n",
       "      <td>2019-05-08 12:37:38</td>\n",
       "      <td>kcufoglu</td>\n",
       "      <td>#Anas is a #young #man from #Tunisia. He was #...</td>\n",
       "      <td>0.000</td>\n",
       "    </tr>\n",
       "    <tr>\n",
       "      <th>3</th>\n",
       "      <td>3</td>\n",
       "      <td>2019-05-08 12:19:42</td>\n",
       "      <td>kcufoglu</td>\n",
       "      <td>#Anas, a #young man from #Tunisia, was sentenc...</td>\n",
       "      <td>0.000</td>\n",
       "    </tr>\n",
       "    <tr>\n",
       "      <th>4</th>\n",
       "      <td>4</td>\n",
       "      <td>2019-05-03 11:50:47</td>\n",
       "      <td>LakhdarJalel</td>\n",
       "      <td>RT @BusinessNews_tn: #FatmaMseddi : #YoussefCh...</td>\n",
       "      <td>0.000</td>\n",
       "    </tr>\n",
       "    <tr>\n",
       "      <th>5</th>\n",
       "      <td>5</td>\n",
       "      <td>2019-05-03 11:30:36</td>\n",
       "      <td>BusinessNews_tn</td>\n",
       "      <td>#FatmaMseddi : #YoussefChahed doit démissionne...</td>\n",
       "      <td>0.000</td>\n",
       "    </tr>\n",
       "    <tr>\n",
       "      <th>6</th>\n",
       "      <td>6</td>\n",
       "      <td>2019-05-02 15:28:48</td>\n",
       "      <td>LeDiplomateTn</td>\n",
       "      <td>Tunisie : lancement officiel du parti Tahya To...</td>\n",
       "      <td>-0.050</td>\n",
       "    </tr>\n",
       "    <tr>\n",
       "      <th>7</th>\n",
       "      <td>7</td>\n",
       "      <td>2019-05-02 12:14:16</td>\n",
       "      <td>LaPresseTunisie</td>\n",
       "      <td>#YoussefChahed à la clôture du congrès de #Tah...</td>\n",
       "      <td>0.150</td>\n",
       "    </tr>\n",
       "    <tr>\n",
       "      <th>8</th>\n",
       "      <td>8</td>\n",
       "      <td>2019-05-02 03:45:34</td>\n",
       "      <td>SalibaJes</td>\n",
       "      <td>Tunisia raises minimum wage https://t.co/9giQu...</td>\n",
       "      <td>0.000</td>\n",
       "    </tr>\n",
       "    <tr>\n",
       "      <th>9</th>\n",
       "      <td>9</td>\n",
       "      <td>2019-04-30 07:59:54</td>\n",
       "      <td>KloufiKharnane</td>\n",
       "      <td>RT @judchrisis: La fermeture de la chaîne #Nes...</td>\n",
       "      <td>0.000</td>\n",
       "    </tr>\n",
       "    <tr>\n",
       "      <th>10</th>\n",
       "      <td>10</td>\n",
       "      <td>2019-05-01 19:07:43</td>\n",
       "      <td>TapNewsAgency</td>\n",
       "      <td>#Tunisia: “building of country's future is bas...</td>\n",
       "      <td>0.000</td>\n",
       "    </tr>\n",
       "    <tr>\n",
       "      <th>11</th>\n",
       "      <td>11</td>\n",
       "      <td>2019-05-09 12:46:57</td>\n",
       "      <td>judchrisis</td>\n",
       "      <td>@babnet_Tunisie Mohsen Marzouk fait les beaux ...</td>\n",
       "      <td>0.400</td>\n",
       "    </tr>\n",
       "    <tr>\n",
       "      <th>12</th>\n",
       "      <td>12</td>\n",
       "      <td>2019-05-01 17:31:28</td>\n",
       "      <td>TapNewsAgency</td>\n",
       "      <td>#Tunisia: \"We are open to #UGTT to restore val...</td>\n",
       "      <td>0.000</td>\n",
       "    </tr>\n",
       "    <tr>\n",
       "      <th>13</th>\n",
       "      <td>13</td>\n",
       "      <td>2019-05-08 11:54:59</td>\n",
       "      <td>hudamzioudet</td>\n",
       "      <td>#NéjiJalloul : Si on arrive au pouvoir, on rel...</td>\n",
       "      <td>0.125</td>\n",
       "    </tr>\n",
       "    <tr>\n",
       "      <th>14</th>\n",
       "      <td>14</td>\n",
       "      <td>2019-05-01 21:20:07</td>\n",
       "      <td>mherbe01</td>\n",
       "      <td>RT @TapNewsAgency: #Tunisia: \"next five-year p...</td>\n",
       "      <td>0.000</td>\n",
       "    </tr>\n",
       "    <tr>\n",
       "      <th>15</th>\n",
       "      <td>15</td>\n",
       "      <td>2019-05-01 21:19:48</td>\n",
       "      <td>TapNewsAgency</td>\n",
       "      <td>#Tunisia: \"next five-year period will be lean ...</td>\n",
       "      <td>0.000</td>\n",
       "    </tr>\n",
       "    <tr>\n",
       "      <th>16</th>\n",
       "      <td>16</td>\n",
       "      <td>2019-05-08 12:00:38</td>\n",
       "      <td>EconomisteMagh</td>\n",
       "      <td>#Italie #ReneTrabelsi #TourismeTunisie #Tunisi...</td>\n",
       "      <td>0.000</td>\n",
       "    </tr>\n",
       "    <tr>\n",
       "      <th>17</th>\n",
       "      <td>17</td>\n",
       "      <td>2019-05-08 10:48:54</td>\n",
       "      <td>BusinessNews_tn</td>\n",
       "      <td>#RenéTrabelsi sacré meilleur ministre du #Tour...</td>\n",
       "      <td>0.440</td>\n",
       "    </tr>\n",
       "    <tr>\n",
       "      <th>18</th>\n",
       "      <td>18</td>\n",
       "      <td>2019-05-06 09:32:56</td>\n",
       "      <td>EconomisteMagh</td>\n",
       "      <td>#ReneTrabelsi #CyrilHanouna #TPMPtunisie #Tour...</td>\n",
       "      <td>0.000</td>\n",
       "    </tr>\n",
       "    <tr>\n",
       "      <th>19</th>\n",
       "      <td>19</td>\n",
       "      <td>2019-05-05 14:28:45</td>\n",
       "      <td>TapNewsAgency</td>\n",
       "      <td>#Tunisia: @TunisianTourism aiming to attract 9...</td>\n",
       "      <td>0.000</td>\n",
       "    </tr>\n",
       "    <tr>\n",
       "      <th>20</th>\n",
       "      <td>20</td>\n",
       "      <td>2019-05-05 11:42:11</td>\n",
       "      <td>judchrisis</td>\n",
       "      <td>@babnet_Tunisie Les Tunisiens doivent s'unir s...</td>\n",
       "      <td>0.060</td>\n",
       "    </tr>\n",
       "    <tr>\n",
       "      <th>21</th>\n",
       "      <td>21</td>\n",
       "      <td>2019-05-02 17:30:04</td>\n",
       "      <td>BenchaaMa</td>\n",
       "      <td>RT @LeDiplomateTn: René Trabelsi : «L’équipe d...</td>\n",
       "      <td>0.000</td>\n",
       "    </tr>\n",
       "    <tr>\n",
       "      <th>22</th>\n",
       "      <td>22</td>\n",
       "      <td>2019-05-02 17:26:45</td>\n",
       "      <td>tarekbrahemyah1</td>\n",
       "      <td>RT @LeDiplomateTn: René Trabelsi : «L’équipe d...</td>\n",
       "      <td>0.000</td>\n",
       "    </tr>\n",
       "    <tr>\n",
       "      <th>23</th>\n",
       "      <td>23</td>\n",
       "      <td>2019-05-02 17:23:58</td>\n",
       "      <td>taoufikmjaied</td>\n",
       "      <td>RT @LeDiplomateTn: René Trabelsi : «L’équipe d...</td>\n",
       "      <td>0.000</td>\n",
       "    </tr>\n",
       "    <tr>\n",
       "      <th>24</th>\n",
       "      <td>24</td>\n",
       "      <td>2019-05-02 13:48:51</td>\n",
       "      <td>LeDiplomateTn</td>\n",
       "      <td>René Trabelsi : «L’équipe de Touche pas à mon ...</td>\n",
       "      <td>0.000</td>\n",
       "    </tr>\n",
       "  </tbody>\n",
       "</table>\n",
       "</div>"
      ],
      "text/plain": [
       "    Unnamed: 0            timestamp               sn  \\\n",
       "0            0  2019-05-09 14:02:37      GnetTunisie   \n",
       "1            1  2019-05-09 12:04:40        ZiedToons   \n",
       "2            2  2019-05-08 12:37:38         kcufoglu   \n",
       "3            3  2019-05-08 12:19:42         kcufoglu   \n",
       "4            4  2019-05-03 11:50:47     LakhdarJalel   \n",
       "5            5  2019-05-03 11:30:36  BusinessNews_tn   \n",
       "6            6  2019-05-02 15:28:48    LeDiplomateTn   \n",
       "7            7  2019-05-02 12:14:16  LaPresseTunisie   \n",
       "8            8  2019-05-02 03:45:34        SalibaJes   \n",
       "9            9  2019-04-30 07:59:54   KloufiKharnane   \n",
       "10          10  2019-05-01 19:07:43    TapNewsAgency   \n",
       "11          11  2019-05-09 12:46:57       judchrisis   \n",
       "12          12  2019-05-01 17:31:28    TapNewsAgency   \n",
       "13          13  2019-05-08 11:54:59     hudamzioudet   \n",
       "14          14  2019-05-01 21:20:07         mherbe01   \n",
       "15          15  2019-05-01 21:19:48    TapNewsAgency   \n",
       "16          16  2019-05-08 12:00:38   EconomisteMagh   \n",
       "17          17  2019-05-08 10:48:54  BusinessNews_tn   \n",
       "18          18  2019-05-06 09:32:56   EconomisteMagh   \n",
       "19          19  2019-05-05 14:28:45    TapNewsAgency   \n",
       "20          20  2019-05-05 11:42:11       judchrisis   \n",
       "21          21  2019-05-02 17:30:04        BenchaaMa   \n",
       "22          22  2019-05-02 17:26:45  tarekbrahemyah1   \n",
       "23          23  2019-05-02 17:23:58    taoufikmjaied   \n",
       "24          24  2019-05-02 13:48:51    LeDiplomateTn   \n",
       "\n",
       "                                                 text  Sentiement  \n",
       "0   #Tunisie 🇹🇳#YoussefChahed promet une couvertur...       0.250  \n",
       "1   #Tunisie: #YoussefChahed annonce un projet de ...       0.000  \n",
       "2   #Anas is a #young #man from #Tunisia. He was #...       0.000  \n",
       "3   #Anas, a #young man from #Tunisia, was sentenc...       0.000  \n",
       "4   RT @BusinessNews_tn: #FatmaMseddi : #YoussefCh...       0.000  \n",
       "5   #FatmaMseddi : #YoussefChahed doit démissionne...       0.000  \n",
       "6   Tunisie : lancement officiel du parti Tahya To...      -0.050  \n",
       "7   #YoussefChahed à la clôture du congrès de #Tah...       0.150  \n",
       "8   Tunisia raises minimum wage https://t.co/9giQu...       0.000  \n",
       "9   RT @judchrisis: La fermeture de la chaîne #Nes...       0.000  \n",
       "10  #Tunisia: “building of country's future is bas...       0.000  \n",
       "11  @babnet_Tunisie Mohsen Marzouk fait les beaux ...       0.400  \n",
       "12  #Tunisia: \"We are open to #UGTT to restore val...       0.000  \n",
       "13  #NéjiJalloul : Si on arrive au pouvoir, on rel...       0.125  \n",
       "14  RT @TapNewsAgency: #Tunisia: \"next five-year p...       0.000  \n",
       "15  #Tunisia: \"next five-year period will be lean ...       0.000  \n",
       "16  #Italie #ReneTrabelsi #TourismeTunisie #Tunisi...       0.000  \n",
       "17  #RenéTrabelsi sacré meilleur ministre du #Tour...       0.440  \n",
       "18  #ReneTrabelsi #CyrilHanouna #TPMPtunisie #Tour...       0.000  \n",
       "19  #Tunisia: @TunisianTourism aiming to attract 9...       0.000  \n",
       "20  @babnet_Tunisie Les Tunisiens doivent s'unir s...       0.060  \n",
       "21  RT @LeDiplomateTn: René Trabelsi : «L’équipe d...       0.000  \n",
       "22  RT @LeDiplomateTn: René Trabelsi : «L’équipe d...       0.000  \n",
       "23  RT @LeDiplomateTn: René Trabelsi : «L’équipe d...       0.000  \n",
       "24  René Trabelsi : «L’équipe de Touche pas à mon ...       0.000  "
      ]
     },
     "execution_count": 126,
     "metadata": {},
     "output_type": "execute_result"
    }
   ],
   "source": [
    "Tweet"
   ]
  },
  {
   "cell_type": "markdown",
   "metadata": {},
   "source": [
    "### Deploiement"
   ]
  },
  {
   "cell_type": "code",
   "execution_count": 127,
   "metadata": {},
   "outputs": [],
   "source": [
    "import pickle\n",
    "#serializing our model to a file called model.pkl\n",
    "pickle.dump(RNN_Model, open(\"model.pkl\",\"wb\"), protocol=2)"
   ]
  },
  {
   "cell_type": "code",
   "execution_count": 131,
   "metadata": {},
   "outputs": [],
   "source": [
    "#loading a model from a file called model.pkl\n",
    "with open('model.pkl', 'rb') as f:\n",
    "    model2 = pickle.load(f)"
   ]
  },
  {
   "cell_type": "code",
   "execution_count": null,
   "metadata": {},
   "outputs": [],
   "source": []
  }
 ],
 "metadata": {
  "kernelspec": {
   "display_name": "Python 3",
   "language": "python",
   "name": "python3"
  },
  "language_info": {
   "codemirror_mode": {
    "name": "ipython",
    "version": 3
   },
   "file_extension": ".py",
   "mimetype": "text/x-python",
   "name": "python",
   "nbconvert_exporter": "python",
   "pygments_lexer": "ipython3",
   "version": "3.7.3"
  }
 },
 "nbformat": 4,
 "nbformat_minor": 2
}
